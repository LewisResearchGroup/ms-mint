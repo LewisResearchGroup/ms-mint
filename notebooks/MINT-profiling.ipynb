{
 "cells": [
  {
   "cell_type": "code",
   "execution_count": 1,
   "id": "412fb169-368f-4c43-b626-8e50c440853c",
   "metadata": {},
   "outputs": [
    {
     "name": "stdout",
     "output_type": "stream",
     "text": [
      "Populating the interactive namespace from numpy and matplotlib\n"
     ]
    }
   ],
   "source": [
    "%pylab inline"
   ]
  },
  {
   "cell_type": "code",
   "execution_count": 2,
   "id": "c58b6d8e-44f9-4c20-80bb-93363e90dd3b",
   "metadata": {},
   "outputs": [
    {
     "name": "stdout",
     "output_type": "stream",
     "text": [
      "import shutil\n",
      "\n",
      "import pandas as pd\n",
      "import numpy as np\n",
      "import os, re\n",
      "\n",
      "from datetime import date\n",
      "from os.path import isdir, isfile, basename, dirname, join\n",
      "from time import sleep\n",
      "from glob import glob\n",
      "from pathlib import Path as P\n",
      "from tqdm.notebook import tqdm\n",
      "\n",
      "import seaborn as sns\n",
      "\n",
      "from matplotlib import pyplot as plt\n",
      "import matplotlib as mpl\n",
      "\n",
      "# mpl.rcParams.update(mpl.rcParamsDefault)\n",
      "\n",
      "plt.rcParams['figure.facecolor'] = 'w'\n",
      "plt.rcParams['figure.dpi'] = 150\n",
      "\n",
      "pd.options.display.max_colwidth = 100\n",
      "pd.options.display.max_columns  = 100\n",
      "\n",
      "\n",
      "def today():\n",
      "    return date.today().strftime('%y%m%d')\n",
      "\n",
      "def log2p1(x):\n",
      "    try: \n",
      "        return np.log2(x+1)\n",
      "    except:\n",
      "        return x\n",
      "\n"
     ]
    }
   ],
   "source": [
    "from TB.c import *"
   ]
  },
  {
   "cell_type": "code",
   "execution_count": 3,
   "id": "71f3a64f-db10-4677-b1c4-abda0d963ccb",
   "metadata": {},
   "outputs": [],
   "source": [
    "from TB.profiling import memory_profile_function"
   ]
  },
  {
   "cell_type": "code",
   "execution_count": 4,
   "id": "b658e616-6788-4d53-b9e7-96eaa33823e5",
   "metadata": {},
   "outputs": [],
   "source": [
    "%load_ext memory_profiler"
   ]
  },
  {
   "cell_type": "code",
   "execution_count": 5,
   "id": "0811639f-4b58-4826-b386-087cf361e882",
   "metadata": {},
   "outputs": [
    {
     "name": "stderr",
     "output_type": "stream",
     "text": [
      "WARNING:root:Cound not import pyteomics.mzmlb\n"
     ]
    }
   ],
   "source": [
    "from ms_mint.processing import process_ms1_file, process_ms1_files_in_parallel\n",
    "from ms_mint.targets import read_targets\n",
    "from ms_mint.Mint import Mint"
   ]
  },
  {
   "cell_type": "code",
   "execution_count": null,
   "id": "d961ce05-6c70-4402-8ba2-cb4f164bd4d0",
   "metadata": {},
   "outputs": [],
   "source": []
  },
  {
   "cell_type": "code",
   "execution_count": 14,
   "id": "806c0c58-2467-4120-83d1-d98a4fa11832",
   "metadata": {},
   "outputs": [],
   "source": [
    "fn_targets = '/data/MINT/Local/workspaces/LSARP/targets/targets.csv'\n",
    "fns = glob('/data/MINT/Local/workspaces/LSARP/ms_files/*mzXML')[:500]\n",
    "targets = read_targets(fn_targets)\n",
    "\n",
    "mint = Mint()\n",
    "mint.targets = targets\n",
    "mint.ms_files = fns"
   ]
  },
  {
   "cell_type": "code",
   "execution_count": 15,
   "id": "617f01be-1d49-4f78-9e5e-f7a141ecb614",
   "metadata": {},
   "outputs": [
    {
     "name": "stdout",
     "output_type": "stream",
     "text": [
      "maxtasksperchild: None\n",
      "2021-10-17 15:06:26.015500 max RSS 287904\n",
      "2021-10-17 15:08:17.572681 max RSS 292860\n",
      "2021-10-17 15:08:17.753061 max RSS 319244\n",
      "Top prefixes: None\n",
      "2021-10-17 15:08:17.811741\n",
      "Top 3 lines\n",
      "#1: multiprocessing/connection.py:251: 16695.0 KiB\n",
      "    return _ForkingPickler.loads(buf.getbuffer())\n",
      "#2: <__array_function__ internals>:5: 8424.6 KiB\n",
      "#3: internals/concat.py:598: 491.5 KiB\n",
      "    is_dtype_equal(ju.block.dtype, join_units[0].block.dtype)\n",
      "1006 other: 3409.1 KiB\n",
      "Total allocated size: 29020.2 KiB\n",
      "CPU times: user 3.34 s, sys: 526 ms, total: 3.86 s\n",
      "Wall time: 1min 53s\n"
     ]
    }
   ],
   "source": [
    "%time memory_profile_function(mint.run, maxtasksperchild=None)"
   ]
  },
  {
   "cell_type": "code",
   "execution_count": 16,
   "id": "18d2f71a-ca11-42bf-9b22-76f09504df91",
   "metadata": {},
   "outputs": [],
   "source": [
    "mint = Mint()\n",
    "mint.targets = targets\n",
    "mint.ms_files = fns"
   ]
  },
  {
   "cell_type": "code",
   "execution_count": 17,
   "id": "dd2f1c49-a66c-48da-acdd-aedd3407b144",
   "metadata": {},
   "outputs": [
    {
     "name": "stdout",
     "output_type": "stream",
     "text": [
      "maxtasksperchild: 1000\n",
      "2021-10-17 15:08:19.147167 max RSS 335136\n",
      "2021-10-17 15:08:19.147167 max RSS 335136\n",
      "Top prefixes: None\n",
      "2021-10-17 15:10:09.877676\n",
      "Top 3 lines\n",
      "#1: python3.8/linecache.py:137: 366.3 KiB\n",
      "    lines = fp.readlines()\n",
      "#2: <frozen importlib._bootstrap_external>:640: 107.2 KiB\n",
      "#3: python3.8/posixpath.py:88: 76.3 KiB\n",
      "    path += sep + b\n",
      "986 other: 604.0 KiB\n",
      "Total allocated size: 1153.9 KiB\n",
      "CPU times: user 2.11 s, sys: 577 ms, total: 2.69 s\n",
      "Wall time: 1min 50s\n"
     ]
    }
   ],
   "source": [
    "%time memory_profile_function(mint.run, maxtasksperchild=1000)"
   ]
  },
  {
   "cell_type": "code",
   "execution_count": 18,
   "id": "44b1ddfe-80f0-4cae-b21b-a34be87a9c11",
   "metadata": {},
   "outputs": [],
   "source": [
    "mint = Mint()\n",
    "mint.targets = targets\n",
    "mint.ms_files = fns"
   ]
  },
  {
   "cell_type": "code",
   "execution_count": 19,
   "id": "fc4b1525-6280-4b53-aae4-e7eb3f8dd16d",
   "metadata": {},
   "outputs": [
    {
     "name": "stdout",
     "output_type": "stream",
     "text": [
      "maxtasksperchild: 500\n",
      "2021-10-17 15:10:10.149650 max RSS 339628\n",
      "Top prefixes: None\n",
      "2021-10-17 15:12:00.846479\n",
      "Top 3 lines\n",
      "#1: python3.8/linecache.py:137: 407.6 KiB\n",
      "    lines = fp.readlines()\n",
      "#2: <frozen importlib._bootstrap_external>:640: 107.2 KiB\n",
      "#3: python3.8/posixpath.py:88: 76.3 KiB\n",
      "    path += sep + b\n",
      "1002 other: 745.1 KiB\n",
      "Total allocated size: 1336.1 KiB\n",
      "CPU times: user 2.21 s, sys: 578 ms, total: 2.79 s\n",
      "Wall time: 1min 50s\n"
     ]
    }
   ],
   "source": [
    "%time memory_profile_function(mint.run, maxtasksperchild=500)"
   ]
  },
  {
   "cell_type": "code",
   "execution_count": 20,
   "id": "363a639b-0909-42f0-9a8b-3c60727f5b5d",
   "metadata": {},
   "outputs": [],
   "source": [
    "mint = Mint()\n",
    "mint.targets = targets\n",
    "mint.ms_files = fns"
   ]
  },
  {
   "cell_type": "code",
   "execution_count": 21,
   "id": "8332a47a-c8ec-4343-b2fc-ead223e2362e",
   "metadata": {},
   "outputs": [
    {
     "name": "stdout",
     "output_type": "stream",
     "text": [
      "maxtasksperchild: 100\n",
      "2021-10-17 15:12:01.144871 max RSS 343184\n",
      "Top prefixes: None\n",
      "2021-10-17 15:13:51.752600\n",
      "Top 3 lines\n",
      "#1: python3.8/linecache.py:137: 407.5 KiB\n",
      "    lines = fp.readlines()\n",
      "#2: <frozen importlib._bootstrap_external>:640: 107.2 KiB\n",
      "#3: python3.8/posixpath.py:88: 76.3 KiB\n",
      "    path += sep + b\n",
      "1003 other: 757.8 KiB\n",
      "Total allocated size: 1348.9 KiB\n",
      "CPU times: user 2.06 s, sys: 608 ms, total: 2.67 s\n",
      "Wall time: 1min 50s\n"
     ]
    }
   ],
   "source": [
    "%time memory_profile_function(mint.run, maxtasksperchild=100)"
   ]
  },
  {
   "cell_type": "code",
   "execution_count": null,
   "id": "c426ff46-60dc-4e51-a350-403a29c8e90b",
   "metadata": {},
   "outputs": [],
   "source": []
  },
  {
   "cell_type": "code",
   "execution_count": null,
   "id": "f2ca998c-a387-40ab-871e-10e16f33fabb",
   "metadata": {},
   "outputs": [],
   "source": []
  }
 ],
 "metadata": {
  "kernelspec": {
   "display_name": "ms-mint",
   "language": "python",
   "name": "ms-mint"
  },
  "language_info": {
   "codemirror_mode": {
    "name": "ipython",
    "version": 3
   },
   "file_extension": ".py",
   "mimetype": "text/x-python",
   "name": "python",
   "nbconvert_exporter": "python",
   "pygments_lexer": "ipython3",
   "version": "3.8.12"
  }
 },
 "nbformat": 4,
 "nbformat_minor": 5
}
