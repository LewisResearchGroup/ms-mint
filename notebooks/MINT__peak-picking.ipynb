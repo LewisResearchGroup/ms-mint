{
 "cells": [
  {
   "cell_type": "markdown",
   "metadata": {},
   "source": [
    "# Peak detection with Mint."
   ]
  },
  {
   "cell_type": "markdown",
   "metadata": {},
   "source": [
    "You can use Mint to detect peaks automatically. First, you have to instantiate `mint = Mint()` and then assign some ms files with `mint.files = [list of filenames]`. Then you can run `.detect_peaks()`. All, currently loaded files with be used to create a rudimentary peaklist. When the run is successfull the generated peaklist is available via the `.peaklist` property. This feature is very basic and is under active development."
   ]
  },
  {
   "cell_type": "code",
   "execution_count": 1,
   "metadata": {},
   "outputs": [
    {
     "name": "stdout",
     "output_type": "stream",
     "text": [
      "Populating the interactive namespace from numpy and matplotlib\n"
     ]
    }
   ],
   "source": [
    "%pylab inline"
   ]
  },
  {
   "cell_type": "code",
   "execution_count": 2,
   "metadata": {},
   "outputs": [
    {
     "name": "stdout",
     "output_type": "stream",
     "text": [
      "import pandas as pd\n",
      "import numpy as np\n",
      "import os, re\n",
      "\n",
      "from os.path import isdir, isfile, basename, dirname\n",
      "\n",
      "from glob import glob\n",
      "from pathlib import Path as P\n",
      "from tqdm.notebook import tqdm\n",
      "\n",
      "import seaborn as sns\n",
      "\n"
     ]
    }
   ],
   "source": [
    "from TB.c import *"
   ]
  },
  {
   "cell_type": "markdown",
   "metadata": {},
   "source": [
    "#### Example"
   ]
  },
  {
   "cell_type": "code",
   "execution_count": 4,
   "metadata": {},
   "outputs": [],
   "source": [
    "from ms_mint.notebook import Mint"
   ]
  },
  {
   "cell_type": "code",
   "execution_count": 5,
   "metadata": {},
   "outputs": [],
   "source": [
    "PATH = '/data/lrg_omics_test_data/metabolomics'\n",
    "files = glob(f'{PATH}/**/*Neg*.mzXML', recursive=True)"
   ]
  },
  {
   "cell_type": "code",
   "execution_count": 6,
   "metadata": {},
   "outputs": [
    {
     "data": {
      "text/plain": [
       "105"
      ]
     },
     "execution_count": 6,
     "metadata": {},
     "output_type": "execute_result"
    }
   ],
   "source": [
    "len(files)"
   ]
  },
  {
   "cell_type": "markdown",
   "metadata": {},
   "source": [
    "#### Instantiate mint and assign files"
   ]
  },
  {
   "cell_type": "code",
   "execution_count": 7,
   "metadata": {},
   "outputs": [
    {
     "data": {
      "application/vnd.jupyter.widget-view+json": {
       "model_id": "15fdcdb7e6fd428c92af5ce2ba65a398",
       "version_major": 2,
       "version_minor": 0
      },
      "text/plain": [
       "HTML(value='<style>textarea, input { font-family: monospace; }</style>')"
      ]
     },
     "metadata": {},
     "output_type": "display_data"
    },
    {
     "data": {
      "application/vnd.jupyter.widget-view+json": {
       "model_id": "395a4277fb424dfc9805d8ce0a1dd01a",
       "version_major": 2,
       "version_minor": 0
      },
      "text/plain": [
       "HTML(value='<style>.container { width:90% !important; }</style>')"
      ]
     },
     "metadata": {},
     "output_type": "display_data"
    },
    {
     "data": {
      "application/vnd.jupyter.widget-view+json": {
       "model_id": "1b37fd8185514563807a8a5ffbf0ee22",
       "version_major": 2,
       "version_minor": 0
      },
      "text/plain": [
       "HTML(value='<style>textarea, input { font-family: monospace; }</style>')"
      ]
     },
     "metadata": {},
     "output_type": "display_data"
    },
    {
     "data": {
      "application/vnd.jupyter.widget-view+json": {
       "model_id": "88236f388ba7472aa0e8ac0c2ca45bc7",
       "version_major": 2,
       "version_minor": 0
      },
      "text/plain": [
       "HTML(value='<style>.container { width:90% !important; }</style>')"
      ]
     },
     "metadata": {},
     "output_type": "display_data"
    },
    {
     "data": {
      "application/vnd.jupyter.widget-view+json": {
       "model_id": "f36b8c150d9049b4b21983a3eee8d637",
       "version_major": 2,
       "version_minor": 0
      },
      "text/plain": [
       "VBox(children=(HBox(children=(SelectFilesButton(description='Peaklist', icon='square-o', style=ButtonStyle(but…"
      ]
     },
     "metadata": {},
     "output_type": "display_data"
    }
   ],
   "source": [
    "mint = Mint()\n",
    "mint.show()"
   ]
  },
  {
   "cell_type": "code",
   "execution_count": 8,
   "metadata": {},
   "outputs": [],
   "source": [
    "mint.files = files[:4]"
   ]
  },
  {
   "cell_type": "markdown",
   "metadata": {},
   "source": [
    "#### Run the peak detection"
   ]
  },
  {
   "cell_type": "code",
   "execution_count": 9,
   "metadata": {},
   "outputs": [],
   "source": [
    "mint.detect_peaks()"
   ]
  },
  {
   "cell_type": "markdown",
   "metadata": {},
   "source": [
    "#### A peak list will be generated"
   ]
  },
  {
   "cell_type": "code",
   "execution_count": 10,
   "metadata": {},
   "outputs": [
    {
     "data": {
      "text/html": [
       "<div>\n",
       "<style scoped>\n",
       "    .dataframe tbody tr th:only-of-type {\n",
       "        vertical-align: middle;\n",
       "    }\n",
       "\n",
       "    .dataframe tbody tr th {\n",
       "        vertical-align: top;\n",
       "    }\n",
       "\n",
       "    .dataframe thead th {\n",
       "        text-align: right;\n",
       "    }\n",
       "</style>\n",
       "<table border=\"1\" class=\"dataframe\">\n",
       "  <thead>\n",
       "    <tr style=\"text-align: right;\">\n",
       "      <th></th>\n",
       "      <th>peak_label</th>\n",
       "      <th>mz_mean</th>\n",
       "      <th>mz_width</th>\n",
       "      <th>rt_min</th>\n",
       "      <th>rt_max</th>\n",
       "      <th>intensity_threshold</th>\n",
       "      <th>peaklist</th>\n",
       "      <th>rt_mean</th>\n",
       "    </tr>\n",
       "  </thead>\n",
       "  <tbody>\n",
       "    <tr>\n",
       "      <th>0</th>\n",
       "      <td>117.019-1.821</td>\n",
       "      <td>117.019</td>\n",
       "      <td>10</td>\n",
       "      <td>1.721</td>\n",
       "      <td>1.921</td>\n",
       "      <td>0</td>\n",
       "      <td>FeatureFinder</td>\n",
       "      <td>1.821</td>\n",
       "    </tr>\n",
       "    <tr>\n",
       "      <th>1</th>\n",
       "      <td>112.986-6.715</td>\n",
       "      <td>112.986</td>\n",
       "      <td>10</td>\n",
       "      <td>6.615</td>\n",
       "      <td>6.815</td>\n",
       "      <td>0</td>\n",
       "      <td>FeatureFinder</td>\n",
       "      <td>6.715</td>\n",
       "    </tr>\n",
       "    <tr>\n",
       "      <th>2</th>\n",
       "      <td>91.004-4.536</td>\n",
       "      <td>91.004</td>\n",
       "      <td>10</td>\n",
       "      <td>4.436</td>\n",
       "      <td>4.636</td>\n",
       "      <td>0</td>\n",
       "      <td>FeatureFinder</td>\n",
       "      <td>4.536</td>\n",
       "    </tr>\n",
       "    <tr>\n",
       "      <th>3</th>\n",
       "      <td>100.934-3.198</td>\n",
       "      <td>100.934</td>\n",
       "      <td>10</td>\n",
       "      <td>3.098</td>\n",
       "      <td>3.298</td>\n",
       "      <td>0</td>\n",
       "      <td>FeatureFinder</td>\n",
       "      <td>3.198</td>\n",
       "    </tr>\n",
       "    <tr>\n",
       "      <th>4</th>\n",
       "      <td>139.002-6.953</td>\n",
       "      <td>139.002</td>\n",
       "      <td>10</td>\n",
       "      <td>6.853</td>\n",
       "      <td>7.053</td>\n",
       "      <td>0</td>\n",
       "      <td>FeatureFinder</td>\n",
       "      <td>6.953</td>\n",
       "    </tr>\n",
       "    <tr>\n",
       "      <th>...</th>\n",
       "      <td>...</td>\n",
       "      <td>...</td>\n",
       "      <td>...</td>\n",
       "      <td>...</td>\n",
       "      <td>...</td>\n",
       "      <td>...</td>\n",
       "      <td>...</td>\n",
       "      <td>...</td>\n",
       "    </tr>\n",
       "    <tr>\n",
       "      <th>748</th>\n",
       "      <td>227.895-9.265</td>\n",
       "      <td>227.895</td>\n",
       "      <td>10</td>\n",
       "      <td>9.165</td>\n",
       "      <td>9.365</td>\n",
       "      <td>0</td>\n",
       "      <td>FeatureFinder</td>\n",
       "      <td>9.265</td>\n",
       "    </tr>\n",
       "    <tr>\n",
       "      <th>749</th>\n",
       "      <td>196.811-2.121</td>\n",
       "      <td>196.811</td>\n",
       "      <td>10</td>\n",
       "      <td>2.021</td>\n",
       "      <td>2.221</td>\n",
       "      <td>0</td>\n",
       "      <td>FeatureFinder</td>\n",
       "      <td>2.121</td>\n",
       "    </tr>\n",
       "    <tr>\n",
       "      <th>750</th>\n",
       "      <td>222.108-8.071</td>\n",
       "      <td>222.108</td>\n",
       "      <td>10</td>\n",
       "      <td>7.971</td>\n",
       "      <td>8.171</td>\n",
       "      <td>0</td>\n",
       "      <td>FeatureFinder</td>\n",
       "      <td>8.071</td>\n",
       "    </tr>\n",
       "    <tr>\n",
       "      <th>751</th>\n",
       "      <td>216.869-9.106</td>\n",
       "      <td>216.869</td>\n",
       "      <td>10</td>\n",
       "      <td>9.006</td>\n",
       "      <td>9.206</td>\n",
       "      <td>0</td>\n",
       "      <td>FeatureFinder</td>\n",
       "      <td>9.106</td>\n",
       "    </tr>\n",
       "    <tr>\n",
       "      <th>752</th>\n",
       "      <td>145.06-7.981</td>\n",
       "      <td>145.060</td>\n",
       "      <td>10</td>\n",
       "      <td>7.881</td>\n",
       "      <td>8.081</td>\n",
       "      <td>0</td>\n",
       "      <td>FeatureFinder</td>\n",
       "      <td>7.981</td>\n",
       "    </tr>\n",
       "  </tbody>\n",
       "</table>\n",
       "<p>753 rows × 8 columns</p>\n",
       "</div>"
      ],
      "text/plain": [
       "        peak_label  mz_mean mz_width  rt_min  rt_max intensity_threshold  \\\n",
       "0    117.019-1.821  117.019       10   1.721   1.921                   0   \n",
       "1    112.986-6.715  112.986       10   6.615   6.815                   0   \n",
       "2     91.004-4.536   91.004       10   4.436   4.636                   0   \n",
       "3    100.934-3.198  100.934       10   3.098   3.298                   0   \n",
       "4    139.002-6.953  139.002       10   6.853   7.053                   0   \n",
       "..             ...      ...      ...     ...     ...                 ...   \n",
       "748  227.895-9.265  227.895       10   9.165   9.365                   0   \n",
       "749  196.811-2.121  196.811       10   2.021   2.221                   0   \n",
       "750  222.108-8.071  222.108       10   7.971   8.171                   0   \n",
       "751  216.869-9.106  216.869       10   9.006   9.206                   0   \n",
       "752   145.06-7.981  145.060       10   7.881   8.081                   0   \n",
       "\n",
       "          peaklist  rt_mean  \n",
       "0    FeatureFinder    1.821  \n",
       "1    FeatureFinder    6.715  \n",
       "2    FeatureFinder    4.536  \n",
       "3    FeatureFinder    3.198  \n",
       "4    FeatureFinder    6.953  \n",
       "..             ...      ...  \n",
       "748  FeatureFinder    9.265  \n",
       "749  FeatureFinder    2.121  \n",
       "750  FeatureFinder    8.071  \n",
       "751  FeatureFinder    9.106  \n",
       "752  FeatureFinder    7.981  \n",
       "\n",
       "[753 rows x 8 columns]"
      ]
     },
     "execution_count": 10,
     "metadata": {},
     "output_type": "execute_result"
    }
   ],
   "source": [
    "mint.peaklist"
   ]
  },
  {
   "cell_type": "markdown",
   "metadata": {},
   "source": [
    "#### Finally, you can run MINT to extract the data"
   ]
  },
  {
   "cell_type": "code",
   "execution_count": 11,
   "metadata": {},
   "outputs": [],
   "source": [
    "mint.run()"
   ]
  },
  {
   "cell_type": "code",
   "execution_count": 12,
   "metadata": {},
   "outputs": [
    {
     "ename": "ModuleNotFoundError",
     "evalue": "No module named 'ms_mint.vis'",
     "output_type": "error",
     "traceback": [
      "\u001b[0;31m---------------------------------------------------------------------------\u001b[0m",
      "\u001b[0;31mModuleNotFoundError\u001b[0m                       Traceback (most recent call last)",
      "\u001b[0;32m<ipython-input-12-2ed703baa4b4>\u001b[0m in \u001b[0;36m<module>\u001b[0;34m\u001b[0m\n\u001b[0;32m----> 1\u001b[0;31m \u001b[0;32mfrom\u001b[0m \u001b[0mms_mint\u001b[0m\u001b[0;34m.\u001b[0m\u001b[0mvis\u001b[0m \u001b[0;32mimport\u001b[0m \u001b[0mhier\u001b[0m\u001b[0;34m\u001b[0m\u001b[0;34m\u001b[0m\u001b[0m\n\u001b[0m",
      "\u001b[0;31mModuleNotFoundError\u001b[0m: No module named 'ms_mint.vis'"
     ]
    }
   ],
   "source": []
  },
  {
   "cell_type": "code",
   "execution_count": null,
   "metadata": {},
   "outputs": [],
   "source": []
  }
 ],
 "metadata": {
  "kernelspec": {
   "display_name": "ms-mint",
   "language": "python",
   "name": "ms-mint"
  },
  "language_info": {
   "codemirror_mode": {
    "name": "ipython",
    "version": 3
   },
   "file_extension": ".py",
   "mimetype": "text/x-python",
   "name": "python",
   "nbconvert_exporter": "python",
   "pygments_lexer": "ipython3",
   "version": "3.8.3"
  }
 },
 "nbformat": 4,
 "nbformat_minor": 4
}
