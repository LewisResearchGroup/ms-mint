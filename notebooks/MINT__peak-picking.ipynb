{
 "cells": [
  {
   "cell_type": "markdown",
   "metadata": {},
   "source": [
    "# Peak detection with Mint."
   ]
  },
  {
   "cell_type": "markdown",
   "metadata": {},
   "source": [
    "You can use Mint to detect peaks automatically. First, you have to instantiate `mint = Mint()` and then assign some ms files with `mint.files = [list of filenames]`. Then you can run `.detect_peaks()`. All, currently loaded files with be used to create a rudimentary peaklist. When the run is successfull the generated peaklist is available via the `.peaklist` property. This feature is very basic and is under active development."
   ]
  },
  {
   "cell_type": "code",
   "execution_count": 1,
   "metadata": {},
   "outputs": [
    {
     "name": "stdout",
     "output_type": "stream",
     "text": [
      "Populating the interactive namespace from numpy and matplotlib\n"
     ]
    }
   ],
   "source": [
    "%pylab inline"
   ]
  },
  {
   "cell_type": "code",
   "execution_count": 2,
   "metadata": {},
   "outputs": [
    {
     "name": "stdout",
     "output_type": "stream",
     "text": [
      "import pandas as pd\n",
      "import numpy as np\n",
      "import os, re\n",
      "\n",
      "from os.path import isdir, isfile, basename, dirname\n",
      "\n",
      "from glob import glob\n",
      "from pathlib import Path as P\n",
      "from tqdm.notebook import tqdm\n",
      "\n",
      "import seaborn as sns\n",
      "\n"
     ]
    }
   ],
   "source": [
    "from TB.c import *"
   ]
  },
  {
   "cell_type": "markdown",
   "metadata": {},
   "source": [
    "#### Example"
   ]
  },
  {
   "cell_type": "code",
   "execution_count": 3,
   "metadata": {},
   "outputs": [],
   "source": [
    "from ms_mint.notebook import Mint"
   ]
  },
  {
   "cell_type": "code",
   "execution_count": 4,
   "metadata": {},
   "outputs": [],
   "source": [
    "PATH = '../MINT_demofiles/'\n",
    "files = glob(f'{PATH}/**/*.mzXML', recursive=True)"
   ]
  },
  {
   "cell_type": "code",
   "execution_count": 5,
   "metadata": {},
   "outputs": [
    {
     "data": {
      "text/plain": [
       "12"
      ]
     },
     "execution_count": 5,
     "metadata": {},
     "output_type": "execute_result"
    }
   ],
   "source": [
    "len(files)"
   ]
  },
  {
   "cell_type": "markdown",
   "metadata": {},
   "source": [
    "#### Instantiate mint and assign files"
   ]
  },
  {
   "cell_type": "code",
   "execution_count": 6,
   "metadata": {},
   "outputs": [
    {
     "data": {
      "application/vnd.jupyter.widget-view+json": {
       "model_id": "11361f5cdfe74a9bad6af71445f4258c",
       "version_major": 2,
       "version_minor": 0
      },
      "text/plain": [
       "HTML(value='<style>textarea, input { font-family: monospace; }</style>')"
      ]
     },
     "metadata": {},
     "output_type": "display_data"
    },
    {
     "data": {
      "application/vnd.jupyter.widget-view+json": {
       "model_id": "ef860786238b4c10b73826593aa93f3c",
       "version_major": 2,
       "version_minor": 0
      },
      "text/plain": [
       "HTML(value='<style>.container { width:90% !important; }</style>')"
      ]
     },
     "metadata": {},
     "output_type": "display_data"
    },
    {
     "data": {
      "application/vnd.jupyter.widget-view+json": {
       "model_id": "04b8842fcb9b4cda962418a22c4941f8",
       "version_major": 2,
       "version_minor": 0
      },
      "text/plain": [
       "HTML(value='<style>textarea, input { font-family: monospace; }</style>')"
      ]
     },
     "metadata": {},
     "output_type": "display_data"
    },
    {
     "data": {
      "application/vnd.jupyter.widget-view+json": {
       "model_id": "86ec6f56c4614e27a82cc42b0db28e12",
       "version_major": 2,
       "version_minor": 0
      },
      "text/plain": [
       "HTML(value='<style>.container { width:90% !important; }</style>')"
      ]
     },
     "metadata": {},
     "output_type": "display_data"
    },
    {
     "data": {
      "application/vnd.jupyter.widget-view+json": {
       "model_id": "18e9d4f32cfb4b6893f395e537a34e39",
       "version_major": 2,
       "version_minor": 0
      },
      "text/plain": [
       "VBox(children=(HBox(children=(SelectFilesButton(description='Peaklist', icon='square-o', style=ButtonStyle(but…"
      ]
     },
     "metadata": {},
     "output_type": "display_data"
    }
   ],
   "source": [
    "mint = Mint()\n",
    "mint.show()"
   ]
  },
  {
   "cell_type": "code",
   "execution_count": 7,
   "metadata": {},
   "outputs": [],
   "source": [
    "mint.ms_files = files\n",
    "mint.list_files()"
   ]
  },
  {
   "cell_type": "markdown",
   "metadata": {},
   "source": [
    "#### Run the peak detection"
   ]
  },
  {
   "cell_type": "code",
   "execution_count": 8,
   "metadata": {},
   "outputs": [
    {
     "name": "stderr",
     "output_type": "stream",
     "text": [
      "100%|██████████| 12/12 [01:08<00:00,  5.74s/it]\n",
      "100%|██████████| 96903/96903 [00:00<00:00, 464029.48it/s]\n",
      " 21%|██        | 29/141 [00:00<00:00, 288.94it/s]"
     ]
    },
    {
     "name": "stdout",
     "output_type": "stream",
     "text": [
      "Condensing peaklist\n"
     ]
    },
    {
     "name": "stderr",
     "output_type": "stream",
     "text": [
      "100%|██████████| 141/141 [00:00<00:00, 205.30it/s]"
     ]
    },
    {
     "name": "stdout",
     "output_type": "stream",
     "text": [
      "CPU times: user 3min 38s, sys: 10.5 s, total: 3min 49s\n",
      "Wall time: 1min 9s\n"
     ]
    },
    {
     "name": "stderr",
     "output_type": "stream",
     "text": [
      "\n"
     ]
    }
   ],
   "source": [
    "%%time\n",
    "mint.detect_peaks(min_quality=1e-2)"
   ]
  },
  {
   "cell_type": "markdown",
   "metadata": {},
   "source": [
    "#### A peak list will be generated"
   ]
  },
  {
   "cell_type": "code",
   "execution_count": 9,
   "metadata": {},
   "outputs": [
    {
     "data": {
      "text/html": [
       "<div>\n",
       "<style scoped>\n",
       "    .dataframe tbody tr th:only-of-type {\n",
       "        vertical-align: middle;\n",
       "    }\n",
       "\n",
       "    .dataframe tbody tr th {\n",
       "        vertical-align: top;\n",
       "    }\n",
       "\n",
       "    .dataframe thead th {\n",
       "        text-align: right;\n",
       "    }\n",
       "</style>\n",
       "<table border=\"1\" class=\"dataframe\">\n",
       "  <thead>\n",
       "    <tr style=\"text-align: right;\">\n",
       "      <th></th>\n",
       "      <th>peak_label</th>\n",
       "      <th>mz_mean</th>\n",
       "      <th>mz_width</th>\n",
       "      <th>rt_min</th>\n",
       "      <th>rt_max</th>\n",
       "      <th>intensity_threshold</th>\n",
       "      <th>peaklist</th>\n",
       "      <th>rt</th>\n",
       "      <th>rt_span</th>\n",
       "    </tr>\n",
       "  </thead>\n",
       "  <tbody>\n",
       "    <tr>\n",
       "      <th>0</th>\n",
       "      <td>0-92.928-6.576</td>\n",
       "      <td>92.928088</td>\n",
       "      <td>10</td>\n",
       "      <td>6.576056</td>\n",
       "      <td>7.088692</td>\n",
       "      <td>0</td>\n",
       "      <td>experimental</td>\n",
       "      <td>6.857193</td>\n",
       "      <td>0.512637</td>\n",
       "    </tr>\n",
       "    <tr>\n",
       "      <th>1</th>\n",
       "      <td>1-94.925-6.572</td>\n",
       "      <td>94.925093</td>\n",
       "      <td>10</td>\n",
       "      <td>6.571638</td>\n",
       "      <td>7.060771</td>\n",
       "      <td>0</td>\n",
       "      <td>experimental</td>\n",
       "      <td>6.832298</td>\n",
       "      <td>0.489133</td>\n",
       "    </tr>\n",
       "    <tr>\n",
       "      <th>2</th>\n",
       "      <td>2-100.934-0.041</td>\n",
       "      <td>100.933666</td>\n",
       "      <td>10</td>\n",
       "      <td>0.041438</td>\n",
       "      <td>1.941659</td>\n",
       "      <td>0</td>\n",
       "      <td>experimental</td>\n",
       "      <td>0.991158</td>\n",
       "      <td>1.900221</td>\n",
       "    </tr>\n",
       "    <tr>\n",
       "      <th>3</th>\n",
       "      <td>3-100.934-14.285</td>\n",
       "      <td>100.933703</td>\n",
       "      <td>10</td>\n",
       "      <td>14.284894</td>\n",
       "      <td>15.608903</td>\n",
       "      <td>0</td>\n",
       "      <td>experimental</td>\n",
       "      <td>14.971726</td>\n",
       "      <td>1.324008</td>\n",
       "    </tr>\n",
       "    <tr>\n",
       "      <th>4</th>\n",
       "      <td>4-100.934-1.542</td>\n",
       "      <td>100.933708</td>\n",
       "      <td>10</td>\n",
       "      <td>1.542005</td>\n",
       "      <td>2.450861</td>\n",
       "      <td>0</td>\n",
       "      <td>experimental</td>\n",
       "      <td>1.985842</td>\n",
       "      <td>0.908856</td>\n",
       "    </tr>\n",
       "    <tr>\n",
       "      <th>5</th>\n",
       "      <td>5-100.934-2.603</td>\n",
       "      <td>100.933715</td>\n",
       "      <td>10</td>\n",
       "      <td>2.602842</td>\n",
       "      <td>3.993612</td>\n",
       "      <td>0</td>\n",
       "      <td>experimental</td>\n",
       "      <td>3.309842</td>\n",
       "      <td>1.390770</td>\n",
       "    </tr>\n",
       "    <tr>\n",
       "      <th>6</th>\n",
       "      <td>6-102.957-5.866</td>\n",
       "      <td>102.956664</td>\n",
       "      <td>10</td>\n",
       "      <td>5.866167</td>\n",
       "      <td>7.609824</td>\n",
       "      <td>0</td>\n",
       "      <td>experimental</td>\n",
       "      <td>6.733475</td>\n",
       "      <td>1.743658</td>\n",
       "    </tr>\n",
       "    <tr>\n",
       "      <th>7</th>\n",
       "      <td>7-112.985-6.159</td>\n",
       "      <td>112.985442</td>\n",
       "      <td>10</td>\n",
       "      <td>6.159298</td>\n",
       "      <td>6.820335</td>\n",
       "      <td>0</td>\n",
       "      <td>experimental</td>\n",
       "      <td>6.489817</td>\n",
       "      <td>0.661037</td>\n",
       "    </tr>\n",
       "    <tr>\n",
       "      <th>8</th>\n",
       "      <td>8-112.986-5.975</td>\n",
       "      <td>112.985746</td>\n",
       "      <td>10</td>\n",
       "      <td>5.974828</td>\n",
       "      <td>7.032272</td>\n",
       "      <td>0</td>\n",
       "      <td>experimental</td>\n",
       "      <td>6.503109</td>\n",
       "      <td>1.057443</td>\n",
       "    </tr>\n",
       "    <tr>\n",
       "      <th>9</th>\n",
       "      <td>9-115.921-14.329</td>\n",
       "      <td>115.920797</td>\n",
       "      <td>10</td>\n",
       "      <td>14.329006</td>\n",
       "      <td>15.663194</td>\n",
       "      <td>0</td>\n",
       "      <td>experimental</td>\n",
       "      <td>14.994038</td>\n",
       "      <td>1.334187</td>\n",
       "    </tr>\n",
       "    <tr>\n",
       "      <th>10</th>\n",
       "      <td>10-115.921-14.225</td>\n",
       "      <td>115.920799</td>\n",
       "      <td>10</td>\n",
       "      <td>14.224778</td>\n",
       "      <td>15.595420</td>\n",
       "      <td>0</td>\n",
       "      <td>experimental</td>\n",
       "      <td>14.924196</td>\n",
       "      <td>1.370642</td>\n",
       "    </tr>\n",
       "    <tr>\n",
       "      <th>11</th>\n",
       "      <td>11-115.921-0.000</td>\n",
       "      <td>115.920821</td>\n",
       "      <td>10</td>\n",
       "      <td>0.000000</td>\n",
       "      <td>1.386427</td>\n",
       "      <td>0</td>\n",
       "      <td>experimental</td>\n",
       "      <td>0.587447</td>\n",
       "      <td>1.386427</td>\n",
       "    </tr>\n",
       "    <tr>\n",
       "      <th>12</th>\n",
       "      <td>12-117.019-1.750</td>\n",
       "      <td>117.019414</td>\n",
       "      <td>10</td>\n",
       "      <td>1.749724</td>\n",
       "      <td>2.337163</td>\n",
       "      <td>0</td>\n",
       "      <td>experimental</td>\n",
       "      <td>2.046921</td>\n",
       "      <td>0.587439</td>\n",
       "    </tr>\n",
       "    <tr>\n",
       "      <th>13</th>\n",
       "      <td>13-126.905-0.461</td>\n",
       "      <td>126.904761</td>\n",
       "      <td>10</td>\n",
       "      <td>0.460532</td>\n",
       "      <td>2.352935</td>\n",
       "      <td>0</td>\n",
       "      <td>experimental</td>\n",
       "      <td>1.406733</td>\n",
       "      <td>1.892403</td>\n",
       "    </tr>\n",
       "    <tr>\n",
       "      <th>14</th>\n",
       "      <td>14-128.035-4.560</td>\n",
       "      <td>128.035363</td>\n",
       "      <td>10</td>\n",
       "      <td>4.559657</td>\n",
       "      <td>4.826177</td>\n",
       "      <td>0</td>\n",
       "      <td>experimental</td>\n",
       "      <td>4.692917</td>\n",
       "      <td>0.266520</td>\n",
       "    </tr>\n",
       "    <tr>\n",
       "      <th>15</th>\n",
       "      <td>15-128.035-4.550</td>\n",
       "      <td>128.035409</td>\n",
       "      <td>10</td>\n",
       "      <td>4.549771</td>\n",
       "      <td>4.940554</td>\n",
       "      <td>0</td>\n",
       "      <td>experimental</td>\n",
       "      <td>4.696379</td>\n",
       "      <td>0.390782</td>\n",
       "    </tr>\n",
       "    <tr>\n",
       "      <th>16</th>\n",
       "      <td>16-144.923-0.000</td>\n",
       "      <td>144.923129</td>\n",
       "      <td>10</td>\n",
       "      <td>0.000000</td>\n",
       "      <td>1.462375</td>\n",
       "      <td>0</td>\n",
       "      <td>experimental</td>\n",
       "      <td>0.708983</td>\n",
       "      <td>1.462375</td>\n",
       "    </tr>\n",
       "    <tr>\n",
       "      <th>17</th>\n",
       "      <td>17-146.046-8.311</td>\n",
       "      <td>146.045571</td>\n",
       "      <td>10</td>\n",
       "      <td>8.311480</td>\n",
       "      <td>8.418454</td>\n",
       "      <td>0</td>\n",
       "      <td>experimental</td>\n",
       "      <td>8.364967</td>\n",
       "      <td>0.106974</td>\n",
       "    </tr>\n",
       "    <tr>\n",
       "      <th>18</th>\n",
       "      <td>18-160.842-6.666</td>\n",
       "      <td>160.841849</td>\n",
       "      <td>10</td>\n",
       "      <td>6.666082</td>\n",
       "      <td>6.959350</td>\n",
       "      <td>0</td>\n",
       "      <td>experimental</td>\n",
       "      <td>6.811708</td>\n",
       "      <td>0.293268</td>\n",
       "    </tr>\n",
       "    <tr>\n",
       "      <th>19</th>\n",
       "      <td>19-160.842-6.954</td>\n",
       "      <td>160.842296</td>\n",
       "      <td>10</td>\n",
       "      <td>6.953773</td>\n",
       "      <td>7.861815</td>\n",
       "      <td>0</td>\n",
       "      <td>experimental</td>\n",
       "      <td>7.405537</td>\n",
       "      <td>0.908041</td>\n",
       "    </tr>\n",
       "    <tr>\n",
       "      <th>20</th>\n",
       "      <td>20-162.839-6.665</td>\n",
       "      <td>162.838845</td>\n",
       "      <td>10</td>\n",
       "      <td>6.665476</td>\n",
       "      <td>6.958175</td>\n",
       "      <td>0</td>\n",
       "      <td>experimental</td>\n",
       "      <td>6.811708</td>\n",
       "      <td>0.292699</td>\n",
       "    </tr>\n",
       "    <tr>\n",
       "      <th>21</th>\n",
       "      <td>21-162.839-6.940</td>\n",
       "      <td>162.839267</td>\n",
       "      <td>10</td>\n",
       "      <td>6.939764</td>\n",
       "      <td>7.863970</td>\n",
       "      <td>0</td>\n",
       "      <td>experimental</td>\n",
       "      <td>7.403697</td>\n",
       "      <td>0.924206</td>\n",
       "    </tr>\n",
       "    <tr>\n",
       "      <th>22</th>\n",
       "      <td>22-195.811-6.505</td>\n",
       "      <td>195.811203</td>\n",
       "      <td>10</td>\n",
       "      <td>6.504687</td>\n",
       "      <td>7.227009</td>\n",
       "      <td>0</td>\n",
       "      <td>experimental</td>\n",
       "      <td>6.890758</td>\n",
       "      <td>0.722321</td>\n",
       "    </tr>\n",
       "    <tr>\n",
       "      <th>23</th>\n",
       "      <td>23-195.811-6.667</td>\n",
       "      <td>195.811223</td>\n",
       "      <td>10</td>\n",
       "      <td>6.666865</td>\n",
       "      <td>7.362135</td>\n",
       "      <td>0</td>\n",
       "      <td>experimental</td>\n",
       "      <td>7.014500</td>\n",
       "      <td>0.695270</td>\n",
       "    </tr>\n",
       "    <tr>\n",
       "      <th>24</th>\n",
       "      <td>24-197.808-4.715</td>\n",
       "      <td>197.808057</td>\n",
       "      <td>10</td>\n",
       "      <td>4.714712</td>\n",
       "      <td>6.585522</td>\n",
       "      <td>0</td>\n",
       "      <td>experimental</td>\n",
       "      <td>5.650117</td>\n",
       "      <td>1.870810</td>\n",
       "    </tr>\n",
       "    <tr>\n",
       "      <th>25</th>\n",
       "      <td>25-197.808-12.780</td>\n",
       "      <td>197.808071</td>\n",
       "      <td>10</td>\n",
       "      <td>12.780470</td>\n",
       "      <td>14.081830</td>\n",
       "      <td>0</td>\n",
       "      <td>experimental</td>\n",
       "      <td>13.431150</td>\n",
       "      <td>1.301360</td>\n",
       "    </tr>\n",
       "    <tr>\n",
       "      <th>26</th>\n",
       "      <td>26-197.808-6.440</td>\n",
       "      <td>197.808122</td>\n",
       "      <td>10</td>\n",
       "      <td>6.440081</td>\n",
       "      <td>7.227169</td>\n",
       "      <td>0</td>\n",
       "      <td>experimental</td>\n",
       "      <td>6.890386</td>\n",
       "      <td>0.787088</td>\n",
       "    </tr>\n",
       "    <tr>\n",
       "      <th>27</th>\n",
       "      <td>27-197.808-6.667</td>\n",
       "      <td>197.808140</td>\n",
       "      <td>10</td>\n",
       "      <td>6.666501</td>\n",
       "      <td>7.362499</td>\n",
       "      <td>0</td>\n",
       "      <td>experimental</td>\n",
       "      <td>7.014500</td>\n",
       "      <td>0.695998</td>\n",
       "    </tr>\n",
       "    <tr>\n",
       "      <th>28</th>\n",
       "      <td>28-199.805-6.547</td>\n",
       "      <td>199.805121</td>\n",
       "      <td>10</td>\n",
       "      <td>6.546641</td>\n",
       "      <td>7.361251</td>\n",
       "      <td>0</td>\n",
       "      <td>experimental</td>\n",
       "      <td>6.979578</td>\n",
       "      <td>0.814611</td>\n",
       "    </tr>\n",
       "    <tr>\n",
       "      <th>29</th>\n",
       "      <td>29-229.155-5.669</td>\n",
       "      <td>229.155249</td>\n",
       "      <td>10</td>\n",
       "      <td>5.668760</td>\n",
       "      <td>5.817173</td>\n",
       "      <td>0</td>\n",
       "      <td>experimental</td>\n",
       "      <td>5.737265</td>\n",
       "      <td>0.148413</td>\n",
       "    </tr>\n",
       "  </tbody>\n",
       "</table>\n",
       "</div>"
      ],
      "text/plain": [
       "           peak_label     mz_mean mz_width     rt_min     rt_max  \\\n",
       "0      0-92.928-6.576   92.928088       10   6.576056   7.088692   \n",
       "1      1-94.925-6.572   94.925093       10   6.571638   7.060771   \n",
       "2     2-100.934-0.041  100.933666       10   0.041438   1.941659   \n",
       "3    3-100.934-14.285  100.933703       10  14.284894  15.608903   \n",
       "4     4-100.934-1.542  100.933708       10   1.542005   2.450861   \n",
       "5     5-100.934-2.603  100.933715       10   2.602842   3.993612   \n",
       "6     6-102.957-5.866  102.956664       10   5.866167   7.609824   \n",
       "7     7-112.985-6.159  112.985442       10   6.159298   6.820335   \n",
       "8     8-112.986-5.975  112.985746       10   5.974828   7.032272   \n",
       "9    9-115.921-14.329  115.920797       10  14.329006  15.663194   \n",
       "10  10-115.921-14.225  115.920799       10  14.224778  15.595420   \n",
       "11   11-115.921-0.000  115.920821       10   0.000000   1.386427   \n",
       "12   12-117.019-1.750  117.019414       10   1.749724   2.337163   \n",
       "13   13-126.905-0.461  126.904761       10   0.460532   2.352935   \n",
       "14   14-128.035-4.560  128.035363       10   4.559657   4.826177   \n",
       "15   15-128.035-4.550  128.035409       10   4.549771   4.940554   \n",
       "16   16-144.923-0.000  144.923129       10   0.000000   1.462375   \n",
       "17   17-146.046-8.311  146.045571       10   8.311480   8.418454   \n",
       "18   18-160.842-6.666  160.841849       10   6.666082   6.959350   \n",
       "19   19-160.842-6.954  160.842296       10   6.953773   7.861815   \n",
       "20   20-162.839-6.665  162.838845       10   6.665476   6.958175   \n",
       "21   21-162.839-6.940  162.839267       10   6.939764   7.863970   \n",
       "22   22-195.811-6.505  195.811203       10   6.504687   7.227009   \n",
       "23   23-195.811-6.667  195.811223       10   6.666865   7.362135   \n",
       "24   24-197.808-4.715  197.808057       10   4.714712   6.585522   \n",
       "25  25-197.808-12.780  197.808071       10  12.780470  14.081830   \n",
       "26   26-197.808-6.440  197.808122       10   6.440081   7.227169   \n",
       "27   27-197.808-6.667  197.808140       10   6.666501   7.362499   \n",
       "28   28-199.805-6.547  199.805121       10   6.546641   7.361251   \n",
       "29   29-229.155-5.669  229.155249       10   5.668760   5.817173   \n",
       "\n",
       "   intensity_threshold      peaklist         rt   rt_span  \n",
       "0                    0  experimental   6.857193  0.512637  \n",
       "1                    0  experimental   6.832298  0.489133  \n",
       "2                    0  experimental   0.991158  1.900221  \n",
       "3                    0  experimental  14.971726  1.324008  \n",
       "4                    0  experimental   1.985842  0.908856  \n",
       "5                    0  experimental   3.309842  1.390770  \n",
       "6                    0  experimental   6.733475  1.743658  \n",
       "7                    0  experimental   6.489817  0.661037  \n",
       "8                    0  experimental   6.503109  1.057443  \n",
       "9                    0  experimental  14.994038  1.334187  \n",
       "10                   0  experimental  14.924196  1.370642  \n",
       "11                   0  experimental   0.587447  1.386427  \n",
       "12                   0  experimental   2.046921  0.587439  \n",
       "13                   0  experimental   1.406733  1.892403  \n",
       "14                   0  experimental   4.692917  0.266520  \n",
       "15                   0  experimental   4.696379  0.390782  \n",
       "16                   0  experimental   0.708983  1.462375  \n",
       "17                   0  experimental   8.364967  0.106974  \n",
       "18                   0  experimental   6.811708  0.293268  \n",
       "19                   0  experimental   7.405537  0.908041  \n",
       "20                   0  experimental   6.811708  0.292699  \n",
       "21                   0  experimental   7.403697  0.924206  \n",
       "22                   0  experimental   6.890758  0.722321  \n",
       "23                   0  experimental   7.014500  0.695270  \n",
       "24                   0  experimental   5.650117  1.870810  \n",
       "25                   0  experimental  13.431150  1.301360  \n",
       "26                   0  experimental   6.890386  0.787088  \n",
       "27                   0  experimental   7.014500  0.695998  \n",
       "28                   0  experimental   6.979578  0.814611  \n",
       "29                   0  experimental   5.737265  0.148413  "
      ]
     },
     "execution_count": 9,
     "metadata": {},
     "output_type": "execute_result"
    }
   ],
   "source": [
    "mint.peaklist"
   ]
  },
  {
   "cell_type": "markdown",
   "metadata": {},
   "source": [
    "#### Finally, you can run MINT to extract the data"
   ]
  },
  {
   "cell_type": "code",
   "execution_count": 10,
   "metadata": {},
   "outputs": [
    {
     "name": "stdout",
     "output_type": "stream",
     "text": [
      "CPU times: user 128 ms, sys: 152 ms, total: 280 ms\n",
      "Wall time: 36.3 s\n"
     ]
    }
   ],
   "source": [
    "%%time\n",
    "mint.run()"
   ]
  },
  {
   "cell_type": "markdown",
   "metadata": {},
   "source": [
    "# Results"
   ]
  },
  {
   "cell_type": "code",
   "execution_count": 13,
   "metadata": {},
   "outputs": [
    {
     "data": {
      "text/plain": [
       "<matplotlib.image.AxesImage at 0x7f8719745910>"
      ]
     },
     "execution_count": 13,
     "metadata": {},
     "output_type": "execute_result"
    },
    {
     "data": {
      "image/png": "[encoded data removed]",
      "text/plain": [
       "<Figure size 576x576 with 3 Axes>"
      ]
     },
     "metadata": {
      "needs_background": "light"
     },
     "output_type": "display_data"
    }
   ],
   "source": [
    "mint.plot_clustering(xmaxticks=100)"
   ]
  },
  {
   "cell_type": "code",
   "execution_count": null,
   "metadata": {},
   "outputs": [],
   "source": []
  }
 ],
 "metadata": {
  "kernelspec": {
   "display_name": "ms-mint",
   "language": "python",
   "name": "ms-mint"
  },
  "language_info": {
   "codemirror_mode": {
    "name": "ipython",
    "version": 3
   },
   "file_extension": ".py",
   "mimetype": "text/x-python",
   "name": "python",
   "nbconvert_exporter": "python",
   "pygments_lexer": "ipython3",
   "version": "3.8.3"
  }
 },
 "nbformat": 4,
 "nbformat_minor": 4
}
