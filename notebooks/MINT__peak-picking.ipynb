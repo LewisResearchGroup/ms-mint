{
 "cells": [
  {
   "cell_type": "markdown",
   "metadata": {},
   "source": [
    "# Peak detection with Mint."
   ]
  },
  {
   "cell_type": "markdown",
   "metadata": {},
   "source": [
    "You can use Mint to detect peaks automatically. First, you have to instantiate `mint = Mint()` and then assign some ms files with `mint.files = [list of filenames]`. Then you can run `.detect_peaks()`. All, currently loaded files with be used to create a rudimentary peaklist. When the run is successfull the generated peaklist is available via the `.peaklist` property. This feature is very basic and is under active development."
   ]
  },
  {
   "cell_type": "code",
   "execution_count": 1,
   "metadata": {},
   "outputs": [
    {
     "name": "stdout",
     "output_type": "stream",
     "text": [
      "Populating the interactive namespace from numpy and matplotlib\n"
     ]
    }
   ],
   "source": [
    "%pylab inline"
   ]
  },
  {
   "cell_type": "code",
   "execution_count": 2,
   "metadata": {},
   "outputs": [
    {
     "name": "stdout",
     "output_type": "stream",
     "text": [
      "import pandas as pd\n",
      "import numpy as np\n",
      "import os, re\n",
      "\n",
      "from os.path import isdir, isfile, basename, dirname\n",
      "\n",
      "from glob import glob\n",
      "from pathlib import Path as P\n",
      "from tqdm.notebook import tqdm\n",
      "\n",
      "import seaborn as sns\n",
      "\n"
     ]
    }
   ],
   "source": [
    "from TB.c import *"
   ]
  },
  {
   "cell_type": "markdown",
   "metadata": {},
   "source": [
    "#### Example"
   ]
  },
  {
   "cell_type": "code",
   "execution_count": 3,
   "metadata": {},
   "outputs": [],
   "source": [
    "from ms_mint.Mint import Mint"
   ]
  },
  {
   "cell_type": "code",
   "execution_count": 7,
   "metadata": {},
   "outputs": [],
   "source": [
    "PATH = '/data/lrg_omics_test_data/metabolomics'\n",
    "files = glob(f'{PATH}/**/*Neg*.mzXML', recursive=True)"
   ]
  },
  {
   "cell_type": "code",
   "execution_count": 9,
   "metadata": {},
   "outputs": [
    {
     "data": {
      "text/plain": [
       "105"
      ]
     },
     "execution_count": 9,
     "metadata": {},
     "output_type": "execute_result"
    }
   ],
   "source": [
    "len(files)"
   ]
  },
  {
   "cell_type": "markdown",
   "metadata": {},
   "source": [
    "#### Instantiate mint and assign files"
   ]
  },
  {
   "cell_type": "code",
   "execution_count": 10,
   "metadata": {},
   "outputs": [],
   "source": [
    "mint = Mint()"
   ]
  },
  {
   "cell_type": "code",
   "execution_count": 11,
   "metadata": {},
   "outputs": [],
   "source": [
    "mint.files = files"
   ]
  },
  {
   "cell_type": "markdown",
   "metadata": {},
   "source": [
    "#### Run the peak detection"
   ]
  },
  {
   "cell_type": "code",
   "execution_count": 17,
   "metadata": {},
   "outputs": [],
   "source": [
    "mint.detect_peaks()"
   ]
  },
  {
   "cell_type": "markdown",
   "metadata": {},
   "source": [
    "#### A peak list will be generated"
   ]
  },
  {
   "cell_type": "code",
   "execution_count": 18,
   "metadata": {},
   "outputs": [
    {
     "data": {
      "text/html": [
       "<div>\n",
       "<style scoped>\n",
       "    .dataframe tbody tr th:only-of-type {\n",
       "        vertical-align: middle;\n",
       "    }\n",
       "\n",
       "    .dataframe tbody tr th {\n",
       "        vertical-align: top;\n",
       "    }\n",
       "\n",
       "    .dataframe thead th {\n",
       "        text-align: right;\n",
       "    }\n",
       "</style>\n",
       "<table border=\"1\" class=\"dataframe\">\n",
       "  <thead>\n",
       "    <tr style=\"text-align: right;\">\n",
       "      <th></th>\n",
       "      <th>peak_label</th>\n",
       "      <th>mz_mean</th>\n",
       "      <th>mz_width</th>\n",
       "      <th>rt_min</th>\n",
       "      <th>rt_max</th>\n",
       "      <th>intensity_threshold</th>\n",
       "      <th>peaklist</th>\n",
       "      <th>rt_mean</th>\n",
       "    </tr>\n",
       "  </thead>\n",
       "  <tbody>\n",
       "    <tr>\n",
       "      <th>0</th>\n",
       "      <td>91.004-8.04</td>\n",
       "      <td>91.004</td>\n",
       "      <td>10</td>\n",
       "      <td>7.940</td>\n",
       "      <td>8.140</td>\n",
       "      <td>0</td>\n",
       "      <td>FeatureFinder</td>\n",
       "      <td>8.040</td>\n",
       "    </tr>\n",
       "    <tr>\n",
       "      <th>1</th>\n",
       "      <td>330.105-7.433</td>\n",
       "      <td>330.105</td>\n",
       "      <td>10</td>\n",
       "      <td>7.333</td>\n",
       "      <td>7.533</td>\n",
       "      <td>0</td>\n",
       "      <td>FeatureFinder</td>\n",
       "      <td>7.433</td>\n",
       "    </tr>\n",
       "    <tr>\n",
       "      <th>2</th>\n",
       "      <td>155.874-6.265</td>\n",
       "      <td>155.874</td>\n",
       "      <td>10</td>\n",
       "      <td>6.165</td>\n",
       "      <td>6.365</td>\n",
       "      <td>0</td>\n",
       "      <td>FeatureFinder</td>\n",
       "      <td>6.265</td>\n",
       "    </tr>\n",
       "    <tr>\n",
       "      <th>3</th>\n",
       "      <td>115.921-3.226</td>\n",
       "      <td>115.921</td>\n",
       "      <td>10</td>\n",
       "      <td>3.126</td>\n",
       "      <td>3.326</td>\n",
       "      <td>0</td>\n",
       "      <td>FeatureFinder</td>\n",
       "      <td>3.226</td>\n",
       "    </tr>\n",
       "    <tr>\n",
       "      <th>4</th>\n",
       "      <td>128.96-5.664</td>\n",
       "      <td>128.960</td>\n",
       "      <td>10</td>\n",
       "      <td>5.564</td>\n",
       "      <td>5.764</td>\n",
       "      <td>0</td>\n",
       "      <td>FeatureFinder</td>\n",
       "      <td>5.664</td>\n",
       "    </tr>\n",
       "    <tr>\n",
       "      <th>...</th>\n",
       "      <td>...</td>\n",
       "      <td>...</td>\n",
       "      <td>...</td>\n",
       "      <td>...</td>\n",
       "      <td>...</td>\n",
       "      <td>...</td>\n",
       "      <td>...</td>\n",
       "      <td>...</td>\n",
       "    </tr>\n",
       "    <tr>\n",
       "      <th>257</th>\n",
       "      <td>178.815-8.525</td>\n",
       "      <td>178.815</td>\n",
       "      <td>10</td>\n",
       "      <td>8.425</td>\n",
       "      <td>8.625</td>\n",
       "      <td>0</td>\n",
       "      <td>FeatureFinder</td>\n",
       "      <td>8.525</td>\n",
       "    </tr>\n",
       "    <tr>\n",
       "      <th>258</th>\n",
       "      <td>310.743-9.52</td>\n",
       "      <td>310.743</td>\n",
       "      <td>10</td>\n",
       "      <td>9.420</td>\n",
       "      <td>9.620</td>\n",
       "      <td>0</td>\n",
       "      <td>FeatureFinder</td>\n",
       "      <td>9.520</td>\n",
       "    </tr>\n",
       "    <tr>\n",
       "      <th>259</th>\n",
       "      <td>191.02-0.585</td>\n",
       "      <td>191.020</td>\n",
       "      <td>10</td>\n",
       "      <td>0.485</td>\n",
       "      <td>0.685</td>\n",
       "      <td>0</td>\n",
       "      <td>FeatureFinder</td>\n",
       "      <td>0.585</td>\n",
       "    </tr>\n",
       "    <tr>\n",
       "      <th>260</th>\n",
       "      <td>200.119-7.892</td>\n",
       "      <td>200.119</td>\n",
       "      <td>10</td>\n",
       "      <td>7.792</td>\n",
       "      <td>7.992</td>\n",
       "      <td>0</td>\n",
       "      <td>FeatureFinder</td>\n",
       "      <td>7.892</td>\n",
       "    </tr>\n",
       "    <tr>\n",
       "      <th>261</th>\n",
       "      <td>242.825-9.739</td>\n",
       "      <td>242.825</td>\n",
       "      <td>10</td>\n",
       "      <td>9.639</td>\n",
       "      <td>9.839</td>\n",
       "      <td>0</td>\n",
       "      <td>FeatureFinder</td>\n",
       "      <td>9.739</td>\n",
       "    </tr>\n",
       "  </tbody>\n",
       "</table>\n",
       "<p>262 rows × 8 columns</p>\n",
       "</div>"
      ],
      "text/plain": [
       "        peak_label  mz_mean mz_width  rt_min  rt_max intensity_threshold  \\\n",
       "0      91.004-8.04   91.004       10   7.940   8.140                   0   \n",
       "1    330.105-7.433  330.105       10   7.333   7.533                   0   \n",
       "2    155.874-6.265  155.874       10   6.165   6.365                   0   \n",
       "3    115.921-3.226  115.921       10   3.126   3.326                   0   \n",
       "4     128.96-5.664  128.960       10   5.564   5.764                   0   \n",
       "..             ...      ...      ...     ...     ...                 ...   \n",
       "257  178.815-8.525  178.815       10   8.425   8.625                   0   \n",
       "258   310.743-9.52  310.743       10   9.420   9.620                   0   \n",
       "259   191.02-0.585  191.020       10   0.485   0.685                   0   \n",
       "260  200.119-7.892  200.119       10   7.792   7.992                   0   \n",
       "261  242.825-9.739  242.825       10   9.639   9.839                   0   \n",
       "\n",
       "          peaklist  rt_mean  \n",
       "0    FeatureFinder    8.040  \n",
       "1    FeatureFinder    7.433  \n",
       "2    FeatureFinder    6.265  \n",
       "3    FeatureFinder    3.226  \n",
       "4    FeatureFinder    5.664  \n",
       "..             ...      ...  \n",
       "257  FeatureFinder    8.525  \n",
       "258  FeatureFinder    9.520  \n",
       "259  FeatureFinder    0.585  \n",
       "260  FeatureFinder    7.892  \n",
       "261  FeatureFinder    9.739  \n",
       "\n",
       "[262 rows x 8 columns]"
      ]
     },
     "execution_count": 18,
     "metadata": {},
     "output_type": "execute_result"
    }
   ],
   "source": [
    "mint.peaklist"
   ]
  },
  {
   "cell_type": "markdown",
   "metadata": {},
   "source": [
    "#### Finally, you can run MINT to extract the data"
   ]
  },
  {
   "cell_type": "code",
   "execution_count": 19,
   "metadata": {},
   "outputs": [],
   "source": [
    "mint.run()"
   ]
  },
  {
   "cell_type": "code",
   "execution_count": null,
   "metadata": {},
   "outputs": [],
   "source": []
  }
 ],
 "metadata": {
  "kernelspec": {
   "display_name": "ms-mint",
   "language": "python",
   "name": "ms-mint"
  },
  "language_info": {
   "codemirror_mode": {
    "name": "ipython",
    "version": 3
   },
   "file_extension": ".py",
   "mimetype": "text/x-python",
   "name": "python",
   "nbconvert_exporter": "python",
   "pygments_lexer": "ipython3",
   "version": "3.8.3"
  }
 },
 "nbformat": 4,
 "nbformat_minor": 4
}
